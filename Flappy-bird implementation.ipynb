{
 "cells": [
  {
   "cell_type": "code",
   "execution_count": 1,
   "outputs": [
    {
     "name": "stdout",
     "output_type": "stream",
     "text": [
      "pygame 2.1.3 (SDL 2.0.22, Python 3.8.6)\n",
      "Hello from the pygame community. https://www.pygame.org/contribute.html\n"
     ]
    }
   ],
   "source": [
    "import random\n",
    "import sys\n",
    "import pygame\n",
    "from pygame.locals import *\n",
    "import numpy as np\n",
    "import matplotlib.pyplot as plt"
   ],
   "metadata": {
    "collapsed": false,
    "pycharm": {
     "name": "#%%\n"
    }
   }
  },
  {
   "cell_type": "code",
   "execution_count": 2,
   "outputs": [],
   "source": [
    "WIDTH = 280\n",
    "HEIGHT = 511\n",
    "\n",
    "BASEY = HEIGHT * 0.8\n",
    "IMAGES = {}\n",
    "pygame.font.init()\n",
    "WINDOW = pygame.display.set_mode((WIDTH, HEIGHT))\n",
    "Font = pygame.font.SysFont(\"comicsans\", 20)\n",
    "BIRD = 'bird1.png'\n",
    "BG = 'bg.png'\n",
    "PIPE = 'pipe.png'\n",
    "max_scores = []\n",
    "\n",
    "Q = np.zeros((7, 21, 2), dtype=float)\n",
    "FPS = 1000000\n",
    "FPSCLOCK = pygame.time.Clock()"
   ],
   "metadata": {
    "collapsed": false,
    "pycharm": {
     "name": "#%%\n"
    }
   }
  },
  {
   "cell_type": "code",
   "execution_count": 3,
   "outputs": [],
   "source": [
    "def static():\n",
    "    birdxpos = int(WIDTH / 5)\n",
    "    birdypos = int((HEIGHT - IMAGES['bird'].get_height()) / 2)\n",
    "    basex = 0\n",
    "    while (True):\n",
    "        for event in pygame.event.get():\n",
    "            if event.type == QUIT:\n",
    "                pygame.display.quit()\n",
    "                pygame.quit()\n",
    "                sys.exit()\n",
    "\n",
    "            elif event.type == KEYDOWN and (event.key == K_SPACE):\n",
    "                return\n",
    "            else:\n",
    "                WINDOW.blit(IMAGES['background'], (0, 0))\n",
    "                WINDOW.blit(IMAGES['bird'], (birdxpos, birdypos))\n",
    "                WINDOW.blit(IMAGES['ground'], (basex, BASEY))\n",
    "                pygame.display.update()\n",
    "                FPSCLOCK.tick(FPS)"
   ],
   "metadata": {
    "collapsed": false,
    "pycharm": {
     "name": "#%%\n"
    }
   }
  },
  {
   "cell_type": "code",
   "execution_count": 4,
   "outputs": [],
   "source": [
    "def Collision(birdxpos, birdypos, up_pipes, bttm_pipes):\n",
    "    if (birdypos >= BASEY - IMAGES['bird'].get_height() or birdypos < 0):\n",
    "        return True\n",
    "    for pipe in up_pipes:\n",
    "        pipeHeight = IMAGES['pipe'][0].get_height()\n",
    "        if (birdypos < pipeHeight + pipe['y'] and abs(birdxpos - pipe['x']) < IMAGES['pipe'][0].get_width()):\n",
    "            return True\n",
    "\n",
    "    for pipe in bttm_pipes:\n",
    "        if (birdypos + IMAGES['bird'].get_height() > pipe['y'] and abs(birdxpos - pipe['x']) < IMAGES['pipe'][\n",
    "            0].get_width()):\n",
    "            return True\n",
    "    return False"
   ],
   "metadata": {
    "collapsed": false,
    "pycharm": {
     "name": "#%%\n"
    }
   }
  },
  {
   "cell_type": "code",
   "execution_count": 5,
   "outputs": [],
   "source": [
    "def get_new_pipe():\n",
    "    pipeHeight = IMAGES['pipe'][1].get_height()\n",
    "    gap = int(HEIGHT / 4)\n",
    "    y2 = int(gap + random.randrange(0, int(HEIGHT - IMAGES['ground'].get_height() - 1.2 * gap)))\n",
    "    pipex = int(WIDTH + 300)\n",
    "    y1 = int(pipeHeight - y2 + gap)\n",
    "\n",
    "    pipe = [\n",
    "        {'x': pipex, 'y': -y1},\n",
    "        {'x': pipex, 'y': y2}\n",
    "    ]\n",
    "    return pipe\n"
   ],
   "metadata": {
    "collapsed": false,
    "pycharm": {
     "name": "#%%\n"
    }
   }
  },
  {
   "cell_type": "code",
   "execution_count": 6,
   "outputs": [],
   "source": [
    "def ai_play(x, y):\n",
    "    jump = False\n",
    "\n",
    "    if (Q[x][y][1] > Q[x][y][0]):\n",
    "        jump = True\n",
    "\n",
    "    return jump"
   ],
   "metadata": {
    "collapsed": false,
    "pycharm": {
     "name": "#%%\n"
    }
   }
  },
  {
   "cell_type": "code",
   "execution_count": 7,
   "outputs": [],
   "source": [
    "def convert(birdxpos, birdypos, bttm_pipes):\n",
    "    x = min(280, bttm_pipes[0]['x'])\n",
    "    y = bttm_pipes[0]['y'] - birdypos\n",
    "    if (y < 0):\n",
    "        y = abs(y) + 500\n",
    "    return int(x / 40 - 1), int(y / 40)\n",
    "\n"
   ],
   "metadata": {
    "collapsed": false,
    "pycharm": {
     "name": "#%%\n"
    }
   }
  },
  {
   "cell_type": "code",
   "execution_count": 8,
   "outputs": [],
   "source": [
    "def Q_update(x_prev, y_prev, jump, reward, x_new, y_new):\n",
    "    if jump:\n",
    "        Q[x_prev][y_prev][1] = 0.6 * Q[x_prev][y_prev][1] + 0.4 * (\n",
    "                    reward + max(Q[x_new][y_new][0], Q[x_new][y_new][1]))\n",
    "    else:\n",
    "        Q[x_prev][y_prev][0] = 0.6 * Q[x_prev][y_prev][0] + 0.4 * (\n",
    "                    reward + max(Q[x_new][y_new][0], Q[x_new][y_new][1]))\n"
   ],
   "metadata": {
    "collapsed": false,
    "pycharm": {
     "name": "#%%\n"
    }
   }
  },
  {
   "cell_type": "code",
   "execution_count": 9,
   "outputs": [],
   "source": [
    "def game_start(generation, x, y):\n",
    "    score = 0\n",
    "    birdxpos = int(WIDTH / 5)\n",
    "    birdypos = int(HEIGHT / 2)\n",
    "    basex1 = 0\n",
    "    basex2 = WIDTH\n",
    "\n",
    "    bgx1 = 0\n",
    "    bgx2 = IMAGES['background'].get_width()\n",
    "\n",
    "    newPipe1 = get_new_pipe()\n",
    "    newPipe2 = get_new_pipe()\n",
    "\n",
    "    up_pipes = [\n",
    "        {'x': WIDTH + 200, 'y': newPipe1[0]['y']},\n",
    "        {'x': WIDTH + 500, 'y': newPipe2[0]['y']}\n",
    "    ]\n",
    "\n",
    "    bttm_pipes = [\n",
    "        {'x': WIDTH + 200, 'y': newPipe1[1]['y']},\n",
    "        {'x': WIDTH + 500, 'y': newPipe2[1]['y']}\n",
    "    ]\n",
    "\n",
    "    pipeVelx = -4\n",
    "\n",
    "    birdyvel = -9\n",
    "    birdymaxvel = 10\n",
    "    birdyvelmin = -8\n",
    "    birdyacc = 1\n",
    "\n",
    "    playerFlapAccv = -8\n",
    "    playerFlapped = False\n",
    "\n",
    "    while (True):\n",
    "\n",
    "        x_prev, y_prev = convert(birdxpos, birdypos, bttm_pipes)\n",
    "        jump = ai_play(x_prev, y_prev)\n",
    "\n",
    "        for event in pygame.event.get():\n",
    "            if event.type == QUIT:\n",
    "                #plt.scatter(x, y)\n",
    "\n",
    "                pygame.quit()\n",
    "                sys.exit()\n",
    "\n",
    "        if jump:\n",
    "            if birdypos > 0:\n",
    "                birdyvel = playerFlapAccv\n",
    "                playerFlapped = True\n",
    "\n",
    "        playerMidPos = birdxpos + IMAGES['bird'].get_width() / 2\n",
    "        for pipe in up_pipes:\n",
    "            pipeMidPos = pipe['x'] + IMAGES['pipe'][0].get_width() / 2\n",
    "            if pipeMidPos <= playerMidPos < pipeMidPos + 4:\n",
    "                score += 1\n",
    "\n",
    "        if birdyvel < birdymaxvel and not playerFlapped:\n",
    "            birdyvel += birdyacc\n",
    "\n",
    "        if playerFlapped:\n",
    "            playerFlapped = False\n",
    "\n",
    "        playerHeight = IMAGES['bird'].get_height()\n",
    "\n",
    "        birdypos = birdypos + min(birdyvel, BASEY - birdypos - playerHeight)\n",
    "\n",
    "        for upperPipe, lowerPipe in zip(up_pipes, bttm_pipes):\n",
    "            upperPipe['x'] += pipeVelx\n",
    "            lowerPipe['x'] += pipeVelx\n",
    "\n",
    "        if (0 < up_pipes[0]['x'] < 5):\n",
    "            newPipe = get_new_pipe()\n",
    "            up_pipes.append(newPipe[0])\n",
    "            bttm_pipes.append(newPipe[1])\n",
    "\n",
    "        if (up_pipes[0]['x'] < -IMAGES['pipe'][0].get_width()):\n",
    "            up_pipes.pop(0)\n",
    "            bttm_pipes.pop(0)\n",
    "        basex1 -= 4\n",
    "        basex2 -= 4\n",
    "        if (basex1 <= -IMAGES['ground'].get_width()):\n",
    "            basex1 = basex2\n",
    "            basex2 = basex1 + IMAGES['ground'].get_width()\n",
    "\n",
    "        bgx1 -= 2\n",
    "        bgx2 -= 2\n",
    "        if (bgx1 <= -IMAGES['background'].get_width()):\n",
    "            bgx1 = bgx2\n",
    "            bgx2 = bgx1 + IMAGES['background'].get_width()\n",
    "        dead = Collision(birdxpos, birdypos, up_pipes, bttm_pipes)\n",
    "        x_new, y_new = convert(birdxpos, birdypos, bttm_pipes)\n",
    "        if dead:\n",
    "            reward = -1000\n",
    "            Q_update(x_prev, y_prev, jump, reward, x_new, y_new)\n",
    "            max_scores.append(score)\n",
    "            return score\n",
    "\n",
    "        reward = 1\n",
    "\n",
    "        Q_update(x_prev, y_prev, jump, reward, x_new, y_new)\n",
    "\n",
    "        WINDOW.blit(IMAGES['background'], (bgx1, 0))\n",
    "        WINDOW.blit(IMAGES['background'], (bgx2, 0))\n",
    "        for upperPipe, lowerPipe in zip(up_pipes, bttm_pipes):\n",
    "            WINDOW.blit(IMAGES['pipe'][0], (upperPipe['x'], upperPipe['y']))\n",
    "            WINDOW.blit(IMAGES['pipe'][1], (lowerPipe['x'], lowerPipe['y']))\n",
    "        WINDOW.blit(IMAGES['ground'], (basex1, BASEY))\n",
    "        WINDOW.blit(IMAGES['ground'], (basex2, BASEY))\n",
    "        text1 = Font.render(\"Score: \" + str(score), 1, (255, 255, 255))\n",
    "        text2 = Font.render(\"Generation: \" + str(generation), 1, (255, 255, 255))\n",
    "        WINDOW.blit(text1, (WIDTH - 10 - text1.get_width(), 10))\n",
    "        WINDOW.blit(text2, (0, 0))\n",
    "        WINDOW.blit(IMAGES['bird'], (birdxpos, birdypos))\n",
    "\n",
    "        pygame.display.update()\n",
    "        FPSCLOCK.tick(FPS)"
   ],
   "metadata": {
    "collapsed": false,
    "pycharm": {
     "name": "#%%\n"
    }
   }
  },
  {
   "cell_type": "code",
   "execution_count": 10,
   "outputs": [
    {
     "ename": "SystemExit",
     "evalue": "",
     "output_type": "error",
     "traceback": [
      "An exception has occurred, use %tb to see the full traceback.\n",
      "\u001B[1;31mSystemExit\u001B[0m\n"
     ]
    },
    {
     "name": "stderr",
     "output_type": "stream",
     "text": [
      "D:\\Agentni3\\lib\\site-packages\\IPython\\core\\interactiveshell.py:3468: UserWarning: To exit: use 'exit', 'quit', or Ctrl-D.\n",
      "  warn(\"To exit: use 'exit', 'quit', or Ctrl-D.\", stacklevel=1)\n"
     ]
    }
   ],
   "source": [
    "pygame.init()\n",
    "\n",
    "IMAGES['ground'] = pygame.image.load('ground.png').convert_alpha()\n",
    "IMAGES['pipe'] = (\n",
    "pygame.transform.rotate(pygame.image.load(PIPE).convert_alpha(), 180), pygame.image.load(PIPE).convert_alpha())\n",
    "IMAGES['background'] = pygame.image.load(BG).convert()\n",
    "IMAGES['bird'] = pygame.image.load(BIRD).convert_alpha()\n",
    "generation = 1\n",
    "gens = 100\n",
    "static()\n",
    "x = []\n",
    "y = []\n",
    "\n",
    "for i in range(gens):\n",
    "    score = game_start(generation, x, y)\n",
    "    if (score == -1):\n",
    "        break\n",
    "    x.append(generation)\n",
    "    y.append(score)\n",
    "    generation += 1\n",
    "#plt.plot(max_scores, range(gens))"
   ],
   "metadata": {
    "collapsed": false,
    "pycharm": {
     "name": "#%%\n"
    }
   }
  },
  {
   "cell_type": "code",
   "execution_count": null,
   "outputs": [],
   "source": [
    "plt.xlabel(\"GENERATION\")\n",
    "plt.ylabel(\"SCORE\")\n",
    "plt.plot(x,y)\n",
    "z = np.polyfit(x, y, 2)\n",
    "p = np.poly1d(z)\n",
    "\n",
    "#add trendline to plot\n",
    "plt.plot(x, p(x))# Plot some data on the axes.\n",
    "print(x)\n",
    "print(y)\n",
    "print(generation)\n",
    "print(np.average(y))"
   ],
   "metadata": {
    "collapsed": false,
    "pycharm": {
     "name": "#%%\n"
    }
   }
  },
  {
   "cell_type": "code",
   "execution_count": null,
   "outputs": [],
   "source": [],
   "metadata": {
    "collapsed": false,
    "pycharm": {
     "name": "#%%\n"
    }
   }
  }
 ],
 "metadata": {
  "kernelspec": {
   "display_name": "Python 3",
   "language": "python",
   "name": "python3"
  },
  "language_info": {
   "codemirror_mode": {
    "name": "ipython",
    "version": 2
   },
   "file_extension": ".py",
   "mimetype": "text/x-python",
   "name": "python",
   "nbconvert_exporter": "python",
   "pygments_lexer": "ipython2",
   "version": "2.7.6"
  }
 },
 "nbformat": 4,
 "nbformat_minor": 0
}